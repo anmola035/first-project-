{
  "nbformat": 4,
  "nbformat_minor": 0,
  "metadata": {
    "colab": {
      "name": "Untitled0.ipynb",
      "provenance": [],
      "collapsed_sections": []
    },
    "kernelspec": {
      "name": "python3",
      "display_name": "Python 3"
    },
    "language_info": {
      "name": "python"
    }
  },
  "cells": [
    {
      "cell_type": "code",
      "metadata": {
        "colab": {
          "base_uri": "https://localhost:8080/",
          "height": 734
        },
        "id": "LTfiZB3jDfgx",
        "outputId": "650db3bf-b2ac-4436-ca01-c3997a3417f6"
      },
      "source": [
        "#Hands on!:\n",
        "\n",
        "import numpy as pd\n",
        "import numpy as np\n",
        "import pandas as pd\n",
        "import matplotlib.pyplot as plt\n",
        "\n",
        "%matplotlib inline\n",
        "\n",
        "#Loading our data:\n",
        "\n",
        "url = \"https://raw.githubusercontent.com/ine-rmotr-curriculum/FreeCodeCamp-Pandas-Real-Life-Example/master/data/sales_data.csv\"\n",
        "data = pd.read_csv(url)\n",
        "\n",
        "#The data at a glance:\n",
        "\n",
        "data.tail()\n",
        "\n",
        "data.info()\n",
        "\n",
        "data.describe()"
      ],
      "execution_count": 23,
      "outputs": [
        {
          "output_type": "stream",
          "name": "stdout",
          "text": [
            "<class 'pandas.core.frame.DataFrame'>\n",
            "RangeIndex: 113036 entries, 0 to 113035\n",
            "Data columns (total 18 columns):\n",
            " #   Column            Non-Null Count   Dtype \n",
            "---  ------            --------------   ----- \n",
            " 0   Date              113036 non-null  object\n",
            " 1   Day               113036 non-null  int64 \n",
            " 2   Month             113036 non-null  object\n",
            " 3   Year              113036 non-null  int64 \n",
            " 4   Customer_Age      113036 non-null  int64 \n",
            " 5   Age_Group         113036 non-null  object\n",
            " 6   Customer_Gender   113036 non-null  object\n",
            " 7   Country           113036 non-null  object\n",
            " 8   State             113036 non-null  object\n",
            " 9   Product_Category  113036 non-null  object\n",
            " 10  Sub_Category      113036 non-null  object\n",
            " 11  Product           113036 non-null  object\n",
            " 12  Order_Quantity    113036 non-null  int64 \n",
            " 13  Unit_Cost         113036 non-null  int64 \n",
            " 14  Unit_Price        113036 non-null  int64 \n",
            " 15  Profit            113036 non-null  int64 \n",
            " 16  Cost              113036 non-null  int64 \n",
            " 17  Revenue           113036 non-null  int64 \n",
            "dtypes: int64(9), object(9)\n",
            "memory usage: 15.5+ MB\n"
          ]
        },
        {
          "output_type": "execute_result",
          "data": {
            "text/html": [
              "<div>\n",
              "<style scoped>\n",
              "    .dataframe tbody tr th:only-of-type {\n",
              "        vertical-align: middle;\n",
              "    }\n",
              "\n",
              "    .dataframe tbody tr th {\n",
              "        vertical-align: top;\n",
              "    }\n",
              "\n",
              "    .dataframe thead th {\n",
              "        text-align: right;\n",
              "    }\n",
              "</style>\n",
              "<table border=\"1\" class=\"dataframe\">\n",
              "  <thead>\n",
              "    <tr style=\"text-align: right;\">\n",
              "      <th></th>\n",
              "      <th>Day</th>\n",
              "      <th>Year</th>\n",
              "      <th>Customer_Age</th>\n",
              "      <th>Order_Quantity</th>\n",
              "      <th>Unit_Cost</th>\n",
              "      <th>Unit_Price</th>\n",
              "      <th>Profit</th>\n",
              "      <th>Cost</th>\n",
              "      <th>Revenue</th>\n",
              "    </tr>\n",
              "  </thead>\n",
              "  <tbody>\n",
              "    <tr>\n",
              "      <th>count</th>\n",
              "      <td>113036.000000</td>\n",
              "      <td>113036.000000</td>\n",
              "      <td>113036.000000</td>\n",
              "      <td>113036.000000</td>\n",
              "      <td>113036.000000</td>\n",
              "      <td>113036.000000</td>\n",
              "      <td>113036.000000</td>\n",
              "      <td>113036.000000</td>\n",
              "      <td>113036.000000</td>\n",
              "    </tr>\n",
              "    <tr>\n",
              "      <th>mean</th>\n",
              "      <td>15.665753</td>\n",
              "      <td>2014.401739</td>\n",
              "      <td>35.919212</td>\n",
              "      <td>11.901660</td>\n",
              "      <td>267.296366</td>\n",
              "      <td>452.938427</td>\n",
              "      <td>285.051665</td>\n",
              "      <td>469.318695</td>\n",
              "      <td>754.370360</td>\n",
              "    </tr>\n",
              "    <tr>\n",
              "      <th>std</th>\n",
              "      <td>8.781567</td>\n",
              "      <td>1.272510</td>\n",
              "      <td>11.021936</td>\n",
              "      <td>9.561857</td>\n",
              "      <td>549.835483</td>\n",
              "      <td>922.071219</td>\n",
              "      <td>453.887443</td>\n",
              "      <td>884.866118</td>\n",
              "      <td>1309.094674</td>\n",
              "    </tr>\n",
              "    <tr>\n",
              "      <th>min</th>\n",
              "      <td>1.000000</td>\n",
              "      <td>2011.000000</td>\n",
              "      <td>17.000000</td>\n",
              "      <td>1.000000</td>\n",
              "      <td>1.000000</td>\n",
              "      <td>2.000000</td>\n",
              "      <td>-30.000000</td>\n",
              "      <td>1.000000</td>\n",
              "      <td>2.000000</td>\n",
              "    </tr>\n",
              "    <tr>\n",
              "      <th>25%</th>\n",
              "      <td>8.000000</td>\n",
              "      <td>2013.000000</td>\n",
              "      <td>28.000000</td>\n",
              "      <td>2.000000</td>\n",
              "      <td>2.000000</td>\n",
              "      <td>5.000000</td>\n",
              "      <td>29.000000</td>\n",
              "      <td>28.000000</td>\n",
              "      <td>63.000000</td>\n",
              "    </tr>\n",
              "    <tr>\n",
              "      <th>50%</th>\n",
              "      <td>16.000000</td>\n",
              "      <td>2014.000000</td>\n",
              "      <td>35.000000</td>\n",
              "      <td>10.000000</td>\n",
              "      <td>9.000000</td>\n",
              "      <td>24.000000</td>\n",
              "      <td>101.000000</td>\n",
              "      <td>108.000000</td>\n",
              "      <td>223.000000</td>\n",
              "    </tr>\n",
              "    <tr>\n",
              "      <th>75%</th>\n",
              "      <td>23.000000</td>\n",
              "      <td>2016.000000</td>\n",
              "      <td>43.000000</td>\n",
              "      <td>20.000000</td>\n",
              "      <td>42.000000</td>\n",
              "      <td>70.000000</td>\n",
              "      <td>358.000000</td>\n",
              "      <td>432.000000</td>\n",
              "      <td>800.000000</td>\n",
              "    </tr>\n",
              "    <tr>\n",
              "      <th>max</th>\n",
              "      <td>31.000000</td>\n",
              "      <td>2016.000000</td>\n",
              "      <td>87.000000</td>\n",
              "      <td>32.000000</td>\n",
              "      <td>2171.000000</td>\n",
              "      <td>3578.000000</td>\n",
              "      <td>15096.000000</td>\n",
              "      <td>42978.000000</td>\n",
              "      <td>58074.000000</td>\n",
              "    </tr>\n",
              "  </tbody>\n",
              "</table>\n",
              "</div>"
            ],
            "text/plain": [
              "                 Day           Year  ...           Cost        Revenue\n",
              "count  113036.000000  113036.000000  ...  113036.000000  113036.000000\n",
              "mean       15.665753    2014.401739  ...     469.318695     754.370360\n",
              "std         8.781567       1.272510  ...     884.866118    1309.094674\n",
              "min         1.000000    2011.000000  ...       1.000000       2.000000\n",
              "25%         8.000000    2013.000000  ...      28.000000      63.000000\n",
              "50%        16.000000    2014.000000  ...     108.000000     223.000000\n",
              "75%        23.000000    2016.000000  ...     432.000000     800.000000\n",
              "max        31.000000    2016.000000  ...   42978.000000   58074.000000\n",
              "\n",
              "[8 rows x 9 columns]"
            ]
          },
          "metadata": {},
          "execution_count": 23
        }
      ]
    },
    {
      "cell_type": "code",
      "metadata": {
        "colab": {
          "base_uri": "https://localhost:8080/"
        },
        "id": "Bhr9KGPxJZLA",
        "outputId": "9ff0d4c7-c5cf-48b8-e5c6-1eef2cd9a3ea"
      },
      "source": [
        "#Numerical analysis and visualization\n",
        "\n",
        "data['Profit'].describe()"
      ],
      "execution_count": 29,
      "outputs": [
        {
          "output_type": "execute_result",
          "data": {
            "text/plain": [
              "count    113036.000000\n",
              "mean        285.051665\n",
              "std         453.887443\n",
              "min         -30.000000\n",
              "25%          29.000000\n",
              "50%         101.000000\n",
              "75%         358.000000\n",
              "max       15096.000000\n",
              "Name: Profit, dtype: float64"
            ]
          },
          "metadata": {},
          "execution_count": 29
        }
      ]
    },
    {
      "cell_type": "code",
      "metadata": {
        "colab": {
          "base_uri": "https://localhost:8080/",
          "height": 391
        },
        "id": "BxNR_pvpLBcD",
        "outputId": "f002b600-5159-42ab-a0c0-67f1549826c1"
      },
      "source": [
        "\n",
        "data['Profit'].plot(kind='box', vert=False, figsize=(14,6))\n"
      ],
      "execution_count": 30,
      "outputs": [
        {
          "output_type": "execute_result",
          "data": {
            "text/plain": [
              "<matplotlib.axes._subplots.AxesSubplot at 0x7f634bf92250>"
            ]
          },
          "metadata": {},
          "execution_count": 30
        },
        {
          "output_type": "display_data",
          "data": {
            "image/png": "[encoded data removed]",
            "text/plain": [
              "<Figure size 1008x432 with 1 Axes>"
            ]
          },
          "metadata": {
            "needs_background": "light"
          }
        }
      ]
    },
    {
      "cell_type": "code",
      "metadata": {
        "colab": {
          "base_uri": "https://localhost:8080/",
          "height": 391
        },
        "id": "6QkhtHOOLR2g",
        "outputId": "cfa206a2-bb06-4de2-aeb7-81d64fedc48e"
      },
      "source": [
        "\n",
        "data['Profit'].plot(kind='density', figsize=(10,6))"
      ],
      "execution_count": 39,
      "outputs": [
        {
          "output_type": "execute_result",
          "data": {
            "text/plain": [
              "<matplotlib.axes._subplots.AxesSubplot at 0x7f6332e6e690>"
            ]
          },
          "metadata": {},
          "execution_count": 39
        },
        {
          "output_type": "display_data",
          "data": {
            "image/png": "[encoded data removed]",
            "text/plain": [
              "<Figure size 720x432 with 1 Axes>"
            ]
          },
          "metadata": {
            "needs_background": "light"
          }
        }
      ]
    },
    {
      "cell_type": "code",
      "metadata": {
        "colab": {
          "base_uri": "https://localhost:8080/",
          "height": 391
        },
        "id": "if4Fk2pNMBDH",
        "outputId": "3c057425-4ebc-4777-f0df-fc26dfa41d12"
      },
      "source": [
        "\n",
        "\n",
        "ax = data['Profit'].plot(kind='density', figsize=(14,6)) # kde\n",
        "ax.axvline(data['Profit'].mean(), color='red')\n",
        "ax.axvline(data['Profit'].median(), color='green')\n"
      ],
      "execution_count": 41,
      "outputs": [
        {
          "output_type": "execute_result",
          "data": {
            "text/plain": [
              "<matplotlib.lines.Line2D at 0x7f6332d11d90>"
            ]
          },
          "metadata": {},
          "execution_count": 41
        },
        {
          "output_type": "display_data",
          "data": {
            "image/png": "[encoded data removed]",
            "text/plain": [
              "<Figure size 1008x432 with 1 Axes>"
            ]
          },
          "metadata": {
            "needs_background": "light"
          }
        }
      ]
    },
    {
      "cell_type": "code",
      "metadata": {
        "id": "J5pTjQs9MYqH"
      },
      "source": [
        ""
      ],
      "execution_count": null,
      "outputs": []
    },
    {
      "cell_type": "code",
      "metadata": {
        "colab": {
          "base_uri": "https://localhost:8080/",
          "height": 405
        },
        "id": "l2HB5dEaMYZ-",
        "outputId": "20e55706-1c56-4928-e00c-929375e605f9"
      },
      "source": [
        "ax = data['Profit'].plot(kind='hist', figsize=(14,6))\n",
        "ax.set_ylabel('Amount of Profit')\n",
        "ax.set_xlabel('dollars')"
      ],
      "execution_count": 42,
      "outputs": [
        {
          "output_type": "execute_result",
          "data": {
            "text/plain": [
              "Text(0.5, 0, 'dollars')"
            ]
          },
          "metadata": {},
          "execution_count": 42
        },
        {
          "output_type": "display_data",
          "data": {
            "image/png": "[encoded data removed]",
            "text/plain": [
              "<Figure size 1008x432 with 1 Axes>"
            ]
          },
          "metadata": {
            "needs_background": "light"
          }
        }
      ]
    },
    {
      "cell_type": "code",
      "metadata": {
        "colab": {
          "base_uri": "https://localhost:8080/",
          "height": 400
        },
        "id": "DWOnLYzkMufI",
        "outputId": "376bc921-824e-4c26-b2b7-b190da5a1643"
      },
      "source": [
        "#Categorical analysis and visualization\n",
        "##We'll analyze the Age_Group column:\n",
        "\n",
        "data.head()\n"
      ],
      "execution_count": 43,
      "outputs": [
        {
          "output_type": "execute_result",
          "data": {
            "text/html": [
              "<div>\n",
              "<style scoped>\n",
              "    .dataframe tbody tr th:only-of-type {\n",
              "        vertical-align: middle;\n",
              "    }\n",
              "\n",
              "    .dataframe tbody tr th {\n",
              "        vertical-align: top;\n",
              "    }\n",
              "\n",
              "    .dataframe thead th {\n",
              "        text-align: right;\n",
              "    }\n",
              "</style>\n",
              "<table border=\"1\" class=\"dataframe\">\n",
              "  <thead>\n",
              "    <tr style=\"text-align: right;\">\n",
              "      <th></th>\n",
              "      <th>Date</th>\n",
              "      <th>Day</th>\n",
              "      <th>Month</th>\n",
              "      <th>Year</th>\n",
              "      <th>Customer_Age</th>\n",
              "      <th>Age_Group</th>\n",
              "      <th>Customer_Gender</th>\n",
              "      <th>Country</th>\n",
              "      <th>State</th>\n",
              "      <th>Product_Category</th>\n",
              "      <th>Sub_Category</th>\n",
              "      <th>Product</th>\n",
              "      <th>Order_Quantity</th>\n",
              "      <th>Unit_Cost</th>\n",
              "      <th>Unit_Price</th>\n",
              "      <th>Profit</th>\n",
              "      <th>Cost</th>\n",
              "      <th>Revenue</th>\n",
              "    </tr>\n",
              "  </thead>\n",
              "  <tbody>\n",
              "    <tr>\n",
              "      <th>0</th>\n",
              "      <td>2013-11-26</td>\n",
              "      <td>26</td>\n",
              "      <td>November</td>\n",
              "      <td>2013</td>\n",
              "      <td>19</td>\n",
              "      <td>Youth (&lt;25)</td>\n",
              "      <td>M</td>\n",
              "      <td>Canada</td>\n",
              "      <td>British Columbia</td>\n",
              "      <td>Accessories</td>\n",
              "      <td>Bike Racks</td>\n",
              "      <td>Hitch Rack - 4-Bike</td>\n",
              "      <td>8</td>\n",
              "      <td>45</td>\n",
              "      <td>120</td>\n",
              "      <td>590</td>\n",
              "      <td>360</td>\n",
              "      <td>950</td>\n",
              "    </tr>\n",
              "    <tr>\n",
              "      <th>1</th>\n",
              "      <td>2015-11-26</td>\n",
              "      <td>26</td>\n",
              "      <td>November</td>\n",
              "      <td>2015</td>\n",
              "      <td>19</td>\n",
              "      <td>Youth (&lt;25)</td>\n",
              "      <td>M</td>\n",
              "      <td>Canada</td>\n",
              "      <td>British Columbia</td>\n",
              "      <td>Accessories</td>\n",
              "      <td>Bike Racks</td>\n",
              "      <td>Hitch Rack - 4-Bike</td>\n",
              "      <td>8</td>\n",
              "      <td>45</td>\n",
              "      <td>120</td>\n",
              "      <td>590</td>\n",
              "      <td>360</td>\n",
              "      <td>950</td>\n",
              "    </tr>\n",
              "    <tr>\n",
              "      <th>2</th>\n",
              "      <td>2014-03-23</td>\n",
              "      <td>23</td>\n",
              "      <td>March</td>\n",
              "      <td>2014</td>\n",
              "      <td>49</td>\n",
              "      <td>Adults (35-64)</td>\n",
              "      <td>M</td>\n",
              "      <td>Australia</td>\n",
              "      <td>New South Wales</td>\n",
              "      <td>Accessories</td>\n",
              "      <td>Bike Racks</td>\n",
              "      <td>Hitch Rack - 4-Bike</td>\n",
              "      <td>23</td>\n",
              "      <td>45</td>\n",
              "      <td>120</td>\n",
              "      <td>1366</td>\n",
              "      <td>1035</td>\n",
              "      <td>2401</td>\n",
              "    </tr>\n",
              "    <tr>\n",
              "      <th>3</th>\n",
              "      <td>2016-03-23</td>\n",
              "      <td>23</td>\n",
              "      <td>March</td>\n",
              "      <td>2016</td>\n",
              "      <td>49</td>\n",
              "      <td>Adults (35-64)</td>\n",
              "      <td>M</td>\n",
              "      <td>Australia</td>\n",
              "      <td>New South Wales</td>\n",
              "      <td>Accessories</td>\n",
              "      <td>Bike Racks</td>\n",
              "      <td>Hitch Rack - 4-Bike</td>\n",
              "      <td>20</td>\n",
              "      <td>45</td>\n",
              "      <td>120</td>\n",
              "      <td>1188</td>\n",
              "      <td>900</td>\n",
              "      <td>2088</td>\n",
              "    </tr>\n",
              "    <tr>\n",
              "      <th>4</th>\n",
              "      <td>2014-05-15</td>\n",
              "      <td>15</td>\n",
              "      <td>May</td>\n",
              "      <td>2014</td>\n",
              "      <td>47</td>\n",
              "      <td>Adults (35-64)</td>\n",
              "      <td>F</td>\n",
              "      <td>Australia</td>\n",
              "      <td>New South Wales</td>\n",
              "      <td>Accessories</td>\n",
              "      <td>Bike Racks</td>\n",
              "      <td>Hitch Rack - 4-Bike</td>\n",
              "      <td>4</td>\n",
              "      <td>45</td>\n",
              "      <td>120</td>\n",
              "      <td>238</td>\n",
              "      <td>180</td>\n",
              "      <td>418</td>\n",
              "    </tr>\n",
              "  </tbody>\n",
              "</table>\n",
              "</div>"
            ],
            "text/plain": [
              "         Date  Day     Month  Year  ...  Unit_Price Profit  Cost Revenue\n",
              "0  2013-11-26   26  November  2013  ...         120    590   360     950\n",
              "1  2015-11-26   26  November  2015  ...         120    590   360     950\n",
              "2  2014-03-23   23     March  2014  ...         120   1366  1035    2401\n",
              "3  2016-03-23   23     March  2016  ...         120   1188   900    2088\n",
              "4  2014-05-15   15       May  2014  ...         120    238   180     418\n",
              "\n",
              "[5 rows x 18 columns]"
            ]
          },
          "metadata": {},
          "execution_count": 43
        }
      ]
    },
    {
      "cell_type": "code",
      "metadata": {
        "id": "LjcM2ZitND6M"
      },
      "source": [
        ""
      ],
      "execution_count": null,
      "outputs": []
    },
    {
      "cell_type": "code",
      "metadata": {
        "colab": {
          "base_uri": "https://localhost:8080/"
        },
        "id": "9EIZwGsgNDp_",
        "outputId": "9e40d854-3e7c-42d1-9e23-8fd76268d78e"
      },
      "source": [
        "data['Age_Group'].value_counts()"
      ],
      "execution_count": 44,
      "outputs": [
        {
          "output_type": "execute_result",
          "data": {
            "text/plain": [
              "Adults (35-64)          55824\n",
              "Young Adults (25-34)    38654\n",
              "Youth (<25)             17828\n",
              "Seniors (64+)             730\n",
              "Name: Age_Group, dtype: int64"
            ]
          },
          "metadata": {},
          "execution_count": 44
        }
      ]
    },
    {
      "cell_type": "code",
      "metadata": {
        "id": "gs5b6r1ONbKX"
      },
      "source": [
        ""
      ],
      "execution_count": null,
      "outputs": []
    },
    {
      "cell_type": "code",
      "metadata": {
        "colab": {
          "base_uri": "https://localhost:8080/",
          "height": 374
        },
        "id": "RZMVBstNNa2H",
        "outputId": "046e50df-c8ec-41ae-db6a-f4c3e6206145"
      },
      "source": [
        "data['Age_Group'].value_counts().plot(kind='pie', figsize=(6,6))"
      ],
      "execution_count": 47,
      "outputs": [
        {
          "output_type": "execute_result",
          "data": {
            "text/plain": [
              "<matplotlib.axes._subplots.AxesSubplot at 0x7f6331861c50>"
            ]
          },
          "metadata": {},
          "execution_count": 47
        },
        {
          "output_type": "display_data",
          "data": {
            "image/png": "[encoded data removed]",
            "text/plain": [
              "<Figure size 432x432 with 1 Axes>"
            ]
          },
          "metadata": {}
        }
      ]
    }
  ]
}